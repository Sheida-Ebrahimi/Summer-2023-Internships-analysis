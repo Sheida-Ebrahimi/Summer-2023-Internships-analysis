{
 "cells": [
  {
   "cell_type": "markdown",
   "id": "d1adacc3-a34a-4884-aa98-c6a9d52348b7",
   "metadata": {},
   "source": [
    "Data as of 2/21/2023 8:22 PM"
   ]
  }
 ],
 "metadata": {
  "kernelspec": {
   "display_name": "Python 3 (ipykernel)",
   "language": "python",
   "name": "python3"
  },
  "language_info": {
   "codemirror_mode": {
    "name": "ipython",
    "version": 3
   },
   "file_extension": ".py",
   "mimetype": "text/x-python",
   "name": "python",
   "nbconvert_exporter": "python",
   "pygments_lexer": "ipython3",
   "version": "3.11.1"
  }
 },
 "nbformat": 4,
 "nbformat_minor": 5
}
